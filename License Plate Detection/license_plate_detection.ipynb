{
  "cells": [
    {
      "cell_type": "markdown",
      "metadata": {
        "id": "vME4kDAEZ8o_",
        "papermill": {
          "duration": 0.033087,
          "end_time": "2020-09-24T21:48:54.625585",
          "exception": false,
          "start_time": "2020-09-24T21:48:54.592498",
          "status": "completed"
        },
        "tags": []
      },
      "source": [
        "This dataset contains 433 images with bounding box annotations of the car license plates within the image. Our goal here is to train a convolutional neural network capable of locating licenses plate on new images. "
      ]
    },
    {
      "cell_type": "markdown",
      "metadata": {
        "id": "s_6JH6TvZ8pA",
        "papermill": {
          "duration": 0.034195,
          "end_time": "2020-09-24T21:48:54.693966",
          "exception": false,
          "start_time": "2020-09-24T21:48:54.659771",
          "status": "completed"
        },
        "tags": []
      },
      "source": [
        "## Preparation of the data"
      ]
    },
    {
      "cell_type": "markdown",
      "metadata": {
        "id": "Wrz57WdrZ8pB",
        "papermill": {
          "duration": 0.033999,
          "end_time": "2020-09-24T21:48:54.762545",
          "exception": false,
          "start_time": "2020-09-24T21:48:54.728546",
          "status": "completed"
        },
        "tags": []
      },
      "source": [
        "Import libraries"
      ]
    },
    {
      "cell_type": "code",
      "execution_count": 1,
      "metadata": {
        "_cell_guid": "b1076dfc-b9ad-4769-8c92-a6c4dae69d19",
        "_uuid": "8f2839f25d086af736a60e9eeb907d3b93b6e0e5",
        "colab": {
          "base_uri": "https://localhost:8080/"
        },
        "execution": {
          "iopub.execute_input": "2020-09-24T21:48:54.840498Z",
          "iopub.status.busy": "2020-09-24T21:48:54.839755Z",
          "iopub.status.idle": "2020-09-24T21:48:56.145717Z",
          "shell.execute_reply": "2020-09-24T21:48:56.145119Z"
        },
        "id": "br_YaasDZ8pB",
        "outputId": "f28783c0-f1b7-4790-bce4-aa7c47202094",
        "papermill": {
          "duration": 1.34939,
          "end_time": "2020-09-24T21:48:56.145864",
          "exception": false,
          "start_time": "2020-09-24T21:48:54.796474",
          "status": "completed"
        },
        "tags": []
      },
      "outputs": [
        {
          "name": "stderr",
          "output_type": "stream",
          "text": [
            "/Users/magicfirst/Downloads/Application/Anaconda/anaconda3/lib/python3.9/site-packages/scipy/__init__.py:146: UserWarning: A NumPy version >=1.16.5 and <1.23.0 is required for this version of SciPy (detected version 1.24.2\n",
            "  warnings.warn(f\"A NumPy version >={np_minversion} and <{np_maxversion}\"\n"
          ]
        }
      ],
      "source": [
        "%matplotlib inline\n",
        "\n",
        "import pandas as pd\n",
        "import numpy as np\n",
        "from matplotlib import pyplot as plt\n",
        "import seaborn as sns\n",
        "import cv2\n",
        "import os\n",
        "import glob\n",
        "# from google.colab import drive\n",
        "# drive.mount('/content/drive')"
      ]
    },
    {
      "cell_type": "markdown",
      "metadata": {
        "id": "9OsPnH1nZ8pD",
        "papermill": {
          "duration": 0.034741,
          "end_time": "2020-09-24T21:48:56.215615",
          "exception": false,
          "start_time": "2020-09-24T21:48:56.180874",
          "status": "completed"
        },
        "tags": []
      },
      "source": [
        "We display the files in Kaggle repertoire :"
      ]
    },
    {
      "cell_type": "code",
      "execution_count": 2,
      "metadata": {
        "execution": {
          "iopub.execute_input": "2020-09-24T21:48:56.290676Z",
          "iopub.status.busy": "2020-09-24T21:48:56.289986Z",
          "iopub.status.idle": "2020-09-24T21:48:56.380045Z",
          "shell.execute_reply": "2020-09-24T21:48:56.380870Z"
        },
        "id": "51bAkryQZ8pE",
        "papermill": {
          "duration": 0.130755,
          "end_time": "2020-09-24T21:48:56.381063",
          "exception": false,
          "start_time": "2020-09-24T21:48:56.250308",
          "status": "completed"
        },
        "tags": []
      },
      "outputs": [],
      "source": [
        "import os\n",
        "for dirname, _, filenames in os.walk('/kaggle/input'):\n",
        "    for filename in filenames:\n",
        "        print(os.path.join(dirname, filename))"
      ]
    },
    {
      "cell_type": "markdown",
      "metadata": {
        "id": "I5XHn1-SZ8pF",
        "papermill": {
          "duration": 0.045545,
          "end_time": "2020-09-24T21:48:56.488750",
          "exception": false,
          "start_time": "2020-09-24T21:48:56.443205",
          "status": "completed"
        },
        "tags": []
      },
      "source": [
        "We create the variable X containing all the images of cars by resizing them.\n",
        "\n"
      ]
    },
    {
      "cell_type": "code",
      "execution_count": 3,
      "metadata": {
        "execution": {
          "iopub.execute_input": "2020-09-24T21:48:56.565709Z",
          "iopub.status.busy": "2020-09-24T21:48:56.564691Z",
          "iopub.status.idle": "2020-09-24T21:48:56.567806Z",
          "shell.execute_reply": "2020-09-24T21:48:56.566730Z"
        },
        "id": "yiJ63Vh_Z8pG",
        "papermill": {
          "duration": 0.043136,
          "end_time": "2020-09-24T21:48:56.567946",
          "exception": false,
          "start_time": "2020-09-24T21:48:56.524810",
          "status": "completed"
        },
        "tags": []
      },
      "outputs": [],
      "source": [
        "IMAGE_SIZE = 224"
      ]
    },
    {
      "cell_type": "code",
      "execution_count": 4,
      "metadata": {
        "execution": {
          "iopub.execute_input": "2020-09-24T21:48:56.647479Z",
          "iopub.status.busy": "2020-09-24T21:48:56.646678Z",
          "iopub.status.idle": "2020-09-24T21:49:03.842391Z",
          "shell.execute_reply": "2020-09-24T21:49:03.841362Z"
        },
        "id": "FdbDpY-OZ8pG",
        "papermill": {
          "duration": 7.23895,
          "end_time": "2020-09-24T21:49:03.842527",
          "exception": false,
          "start_time": "2020-09-24T21:48:56.603577",
          "status": "completed"
        },
        "tags": []
      },
      "outputs": [],
      "source": [
        "img_dir = \"/Users/magicfirst/Documents/Magic/Education/Master Degree/semester 2:2565/Software Design for Artificail Intelligence/Project/archive/images/\" # Enter Directory of all images \n",
        "data_path = os.path.join(img_dir,'*g')\n",
        "files = glob.glob(data_path)\n",
        "files.sort() #We sort the images in alphabetical order to match them to the xml files containing the annotations of the bounding boxes\n",
        "X=[]\n",
        "for f1 in files:\n",
        "    img = cv2.imread(f1)\n",
        "    img = cv2.resize(img, (IMAGE_SIZE,IMAGE_SIZE))\n",
        "    X.append(np.array(img))\n",
        "    "
      ]
    },
    {
      "cell_type": "markdown",
      "metadata": {
        "id": "6PPsxlcRZ8pH",
        "papermill": {
          "duration": 0.035661,
          "end_time": "2020-09-24T21:49:03.915556",
          "exception": false,
          "start_time": "2020-09-24T21:49:03.879895",
          "status": "completed"
        },
        "tags": []
      },
      "source": [
        "We create the variable y containing all the bounding boxe annotations (label). \n",
        "Before that, we will have to resize the annotations so that it fits the new size of the images (200*200). We create a function resizeannotation for that. "
      ]
    },
    {
      "cell_type": "code",
      "execution_count": 5,
      "metadata": {
        "execution": {
          "iopub.execute_input": "2020-09-24T21:49:04.002010Z",
          "iopub.status.busy": "2020-09-24T21:49:04.001124Z",
          "iopub.status.idle": "2020-09-24T21:49:04.106495Z",
          "shell.execute_reply": "2020-09-24T21:49:04.105871Z"
        },
        "id": "s2QJ9IiQZ8pH",
        "papermill": {
          "duration": 0.152355,
          "end_time": "2020-09-24T21:49:04.106617",
          "exception": false,
          "start_time": "2020-09-24T21:49:03.954262",
          "status": "completed"
        },
        "tags": []
      },
      "outputs": [],
      "source": [
        "from lxml import etree\n",
        "def resizeannotation(f):\n",
        "    tree = etree.parse(f)\n",
        "    for dim in tree.xpath(\"size\"):\n",
        "        width = int(dim.xpath(\"width\")[0].text)\n",
        "        height = int(dim.xpath(\"height\")[0].text)\n",
        "    for dim in tree.xpath(\"object/bndbox\"):\n",
        "        xmin = int(dim.xpath(\"xmin\")[0].text)/(width/IMAGE_SIZE)\n",
        "        ymin = int(dim.xpath(\"ymin\")[0].text)/(height/IMAGE_SIZE)\n",
        "        xmax = int(dim.xpath(\"xmax\")[0].text)/(width/IMAGE_SIZE)\n",
        "        ymax = int(dim.xpath(\"ymax\")[0].text)/(height/IMAGE_SIZE)\n",
        "    return [int(xmax), int(ymax), int(xmin), int(ymin)]\n",
        "        "
      ]
    },
    {
      "cell_type": "code",
      "execution_count": 6,
      "metadata": {
        "execution": {
          "iopub.execute_input": "2020-09-24T21:49:04.187614Z",
          "iopub.status.busy": "2020-09-24T21:49:04.186735Z",
          "iopub.status.idle": "2020-09-24T21:49:04.679319Z",
          "shell.execute_reply": "2020-09-24T21:49:04.678150Z"
        },
        "id": "d40n-RRNZ8pK",
        "papermill": {
          "duration": 0.533922,
          "end_time": "2020-09-24T21:49:04.679441",
          "exception": false,
          "start_time": "2020-09-24T21:49:04.145519",
          "status": "completed"
        },
        "tags": []
      },
      "outputs": [],
      "source": [
        "path = '/Users/magicfirst/Documents/Magic/Education/Master Degree/semester 2:2565/Software Design for Artificail Intelligence/Project/archive/annotations/'\n",
        "text_files = ['/Users/magicfirst/Documents/Magic/Education/Master Degree/semester 2:2565/Software Design for Artificail Intelligence/Project/archive/annotations/'+f for f in sorted(os.listdir(path))]\n",
        "y=[]\n",
        "for i in text_files:\n",
        "    y.append(resizeannotation(i))"
      ]
    },
    {
      "cell_type": "code",
      "execution_count": 7,
      "metadata": {
        "colab": {
          "base_uri": "https://localhost:8080/"
        },
        "execution": {
          "iopub.execute_input": "2020-09-24T21:49:04.760373Z",
          "iopub.status.busy": "2020-09-24T21:49:04.759420Z",
          "iopub.status.idle": "2020-09-24T21:49:04.766348Z",
          "shell.execute_reply": "2020-09-24T21:49:04.766867Z"
        },
        "id": "JNbnqLe6Z8pK",
        "outputId": "e0eaab07-8b26-4d18-e18f-88f8e400f002",
        "papermill": {
          "duration": 0.049198,
          "end_time": "2020-09-24T21:49:04.766996",
          "exception": false,
          "start_time": "2020-09-24T21:49:04.717798",
          "status": "completed"
        },
        "tags": []
      },
      "outputs": [
        {
          "data": {
            "text/plain": [
              "[188, 141, 101, 104]"
            ]
          },
          "execution_count": 7,
          "metadata": {},
          "output_type": "execute_result"
        }
      ],
      "source": [
        "resizeannotation(\"/Users/magicfirst/Documents/Magic/Education/Master Degree/semester 2:2565/Software Design for Artificail Intelligence/Project/archive/annotations/Cars147.xml\")"
      ]
    },
    {
      "cell_type": "code",
      "execution_count": 8,
      "metadata": {
        "colab": {
          "base_uri": "https://localhost:8080/"
        },
        "execution": {
          "iopub.execute_input": "2020-09-24T21:49:04.849429Z",
          "iopub.status.busy": "2020-09-24T21:49:04.847884Z",
          "iopub.status.idle": "2020-09-24T21:49:04.852551Z",
          "shell.execute_reply": "2020-09-24T21:49:04.851809Z"
        },
        "id": "5P9Bv-3lZ8pL",
        "outputId": "444b4a51-7315-4586-a002-9bef086ba00e",
        "papermill": {
          "duration": 0.047898,
          "end_time": "2020-09-24T21:49:04.852660",
          "exception": false,
          "start_time": "2020-09-24T21:49:04.804762",
          "status": "completed"
        },
        "tags": []
      },
      "outputs": [
        {
          "data": {
            "text/plain": [
              "[187, 144, 101, 104]"
            ]
          },
          "execution_count": 8,
          "metadata": {},
          "output_type": "execute_result"
        }
      ],
      "source": [
        "y[0]"
      ]
    },
    {
      "cell_type": "markdown",
      "metadata": {
        "id": "JwvH5c3zZ8pL",
        "papermill": {
          "duration": 0.038179,
          "end_time": "2020-09-24T21:49:04.929654",
          "exception": false,
          "start_time": "2020-09-24T21:49:04.891475",
          "status": "completed"
        },
        "tags": []
      },
      "source": [
        "We check X et y shape"
      ]
    },
    {
      "cell_type": "code",
      "execution_count": 9,
      "metadata": {
        "colab": {
          "base_uri": "https://localhost:8080/"
        },
        "execution": {
          "iopub.execute_input": "2020-09-24T21:49:05.012073Z",
          "iopub.status.busy": "2020-09-24T21:49:05.011326Z",
          "iopub.status.idle": "2020-09-24T21:49:05.039074Z",
          "shell.execute_reply": "2020-09-24T21:49:05.039590Z"
        },
        "id": "5d4uY9qHZ8pL",
        "outputId": "9ace76c4-76f8-4865-cf9d-6f1959c64fa2",
        "papermill": {
          "duration": 0.070766,
          "end_time": "2020-09-24T21:49:05.039714",
          "exception": false,
          "start_time": "2020-09-24T21:49:04.968948",
          "status": "completed"
        },
        "tags": []
      },
      "outputs": [
        {
          "data": {
            "text/plain": [
              "(433, 224, 224, 3)"
            ]
          },
          "execution_count": 9,
          "metadata": {},
          "output_type": "execute_result"
        }
      ],
      "source": [
        "np.array(X).shape"
      ]
    },
    {
      "cell_type": "code",
      "execution_count": 10,
      "metadata": {
        "colab": {
          "base_uri": "https://localhost:8080/"
        },
        "execution": {
          "iopub.execute_input": "2020-09-24T21:49:05.125503Z",
          "iopub.status.busy": "2020-09-24T21:49:05.124795Z",
          "iopub.status.idle": "2020-09-24T21:49:05.131167Z",
          "shell.execute_reply": "2020-09-24T21:49:05.131732Z"
        },
        "id": "tXdLos2NZ8pM",
        "outputId": "96badee8-804c-4e74-9567-edbd3319d6e8",
        "papermill": {
          "duration": 0.05218,
          "end_time": "2020-09-24T21:49:05.131880",
          "exception": false,
          "start_time": "2020-09-24T21:49:05.079700",
          "status": "completed"
        },
        "tags": []
      },
      "outputs": [
        {
          "data": {
            "text/plain": [
              "(433, 4)"
            ]
          },
          "execution_count": 10,
          "metadata": {},
          "output_type": "execute_result"
        }
      ],
      "source": [
        "np.array(y).shape"
      ]
    },
    {
      "cell_type": "markdown",
      "metadata": {
        "id": "PbjT3MXZZ8pM",
        "papermill": {
          "duration": 0.038606,
          "end_time": "2020-09-24T21:49:05.209234",
          "exception": false,
          "start_time": "2020-09-24T21:49:05.170628",
          "status": "completed"
        },
        "tags": []
      },
      "source": [
        "And we display the first eighteen image of the dataset : "
      ]
    },
    {
      "cell_type": "code",
      "execution_count": 11,
      "metadata": {
        "colab": {
          "base_uri": "https://localhost:8080/",
          "height": 455
        },
        "execution": {
          "iopub.execute_input": "2020-09-24T21:49:05.299522Z",
          "iopub.status.busy": "2020-09-24T21:49:05.298689Z",
          "iopub.status.idle": "2020-09-24T21:49:06.203083Z",
          "shell.execute_reply": "2020-09-24T21:49:06.203629Z"
        },
        "id": "ed703sItZ8pM",
        "outputId": "21f84faf-39dc-474e-b14e-134b515688ea",
        "papermill": {
          "duration": 0.953848,
          "end_time": "2020-09-24T21:49:06.203771",
          "exception": false,
          "start_time": "2020-09-24T21:49:05.249923",
          "status": "completed"
        },
        "tags": []
      },
      "outputs": [],
      "source": [
        "# plt.figure(figsize=(10,20))\n",
        "# for i in range(0,17) :\n",
        "#     plt.subplot(10,5,i+1)\n",
        "#     plt.axis('off')\n",
        "#     plt.imshow(X[i])"
      ]
    },
    {
      "cell_type": "markdown",
      "metadata": {
        "id": "qN3ayiXTZ8pN",
        "papermill": {
          "duration": 0.047983,
          "end_time": "2020-09-24T21:49:06.300225",
          "exception": false,
          "start_time": "2020-09-24T21:49:06.252242",
          "status": "completed"
        },
        "tags": []
      },
      "source": [
        "We can draw the rectangle containing the license plate using the OpenCV library"
      ]
    },
    {
      "cell_type": "code",
      "execution_count": 12,
      "metadata": {
        "colab": {
          "base_uri": "https://localhost:8080/",
          "height": 269
        },
        "execution": {
          "iopub.execute_input": "2020-09-24T21:49:06.406737Z",
          "iopub.status.busy": "2020-09-24T21:49:06.406002Z",
          "iopub.status.idle": "2020-09-24T21:49:06.621304Z",
          "shell.execute_reply": "2020-09-24T21:49:06.621849Z"
        },
        "id": "iIXjZVPnZ8pN",
        "outputId": "ca8daec6-6ef8-47a0-be6a-762fe522d3d6",
        "papermill": {
          "duration": 0.274227,
          "end_time": "2020-09-24T21:49:06.621989",
          "exception": false,
          "start_time": "2020-09-24T21:49:06.347762",
          "status": "completed"
        },
        "tags": []
      },
      "outputs": [],
      "source": [
        "# #Example with the first image of the dataset\n",
        "# image = cv2.rectangle(X[0],(y[0][0],y[0][1]),(y[0][2],y[0][3]),(0, 0, 255))\n",
        "# plt.imshow(image)\n",
        "# plt.show()\n"
      ]
    },
    {
      "cell_type": "code",
      "execution_count": 13,
      "metadata": {
        "colab": {
          "base_uri": "https://localhost:8080/",
          "height": 269
        },
        "execution": {
          "iopub.execute_input": "2020-09-24T21:49:06.740897Z",
          "iopub.status.busy": "2020-09-24T21:49:06.738813Z",
          "iopub.status.idle": "2020-09-24T21:49:06.932224Z",
          "shell.execute_reply": "2020-09-24T21:49:06.932751Z"
        },
        "id": "53JySXFhZ8pO",
        "outputId": "0a16ff21-5f4a-44e8-a69d-9c033d5341ba",
        "papermill": {
          "duration": 0.259251,
          "end_time": "2020-09-24T21:49:06.932926",
          "exception": false,
          "start_time": "2020-09-24T21:49:06.673675",
          "status": "completed"
        },
        "tags": []
      },
      "outputs": [],
      "source": [
        "# #Example with the second image of the dataset\n",
        "# image = cv2.rectangle(X[1],(y[1][0],y[1][1]),(y[1][2],y[1][3]),(0, 0, 255))\n",
        "# plt.imshow(image)\n",
        "# plt.show()\n"
      ]
    },
    {
      "cell_type": "markdown",
      "metadata": {
        "id": "rtTfTYgoZ8pO",
        "papermill": {
          "duration": 0.054631,
          "end_time": "2020-09-24T21:49:07.042742",
          "exception": false,
          "start_time": "2020-09-24T21:49:06.988111",
          "status": "completed"
        },
        "tags": []
      },
      "source": [
        "We prepare the data for the CNN :"
      ]
    },
    {
      "cell_type": "code",
      "execution_count": 14,
      "metadata": {
        "execution": {
          "iopub.execute_input": "2020-09-24T21:49:07.163496Z",
          "iopub.status.busy": "2020-09-24T21:49:07.161887Z",
          "iopub.status.idle": "2020-09-24T21:49:07.186244Z",
          "shell.execute_reply": "2020-09-24T21:49:07.185639Z"
        },
        "id": "mDUhYCe7Z8pO",
        "papermill": {
          "duration": 0.086327,
          "end_time": "2020-09-24T21:49:07.186362",
          "exception": false,
          "start_time": "2020-09-24T21:49:07.100035",
          "status": "completed"
        },
        "tags": []
      },
      "outputs": [],
      "source": [
        "#Transforming in array\n",
        "X=np.array(X)\n",
        "y=np.array(y)"
      ]
    },
    {
      "cell_type": "code",
      "execution_count": 15,
      "metadata": {
        "execution": {
          "iopub.execute_input": "2020-09-24T21:49:07.300442Z",
          "iopub.status.busy": "2020-09-24T21:49:07.299295Z",
          "iopub.status.idle": "2020-09-24T21:49:07.474661Z",
          "shell.execute_reply": "2020-09-24T21:49:07.474075Z"
        },
        "id": "jczvIVjCZ8pO",
        "papermill": {
          "duration": 0.234407,
          "end_time": "2020-09-24T21:49:07.474795",
          "exception": false,
          "start_time": "2020-09-24T21:49:07.240388",
          "status": "completed"
        },
        "tags": []
      },
      "outputs": [],
      "source": [
        "#Renormalisation\n",
        "X = X / 255\n",
        "y = y / 255"
      ]
    },
    {
      "cell_type": "markdown",
      "metadata": {
        "id": "RMxlftuGZ8pP",
        "papermill": {
          "duration": 0.056258,
          "end_time": "2020-09-24T21:49:07.588745",
          "exception": false,
          "start_time": "2020-09-24T21:49:07.532487",
          "status": "completed"
        },
        "tags": []
      },
      "source": [
        "We split our dataset in two : training set/testing set"
      ]
    },
    {
      "cell_type": "code",
      "execution_count": 16,
      "metadata": {
        "execution": {
          "iopub.execute_input": "2020-09-24T21:49:07.701513Z",
          "iopub.status.busy": "2020-09-24T21:49:07.700668Z",
          "iopub.status.idle": "2020-09-24T21:49:08.111991Z",
          "shell.execute_reply": "2020-09-24T21:49:08.111389Z"
        },
        "id": "z5hXxDnQZ8pQ",
        "papermill": {
          "duration": 0.469486,
          "end_time": "2020-09-24T21:49:08.112102",
          "exception": false,
          "start_time": "2020-09-24T21:49:07.642616",
          "status": "completed"
        },
        "tags": []
      },
      "outputs": [],
      "source": [
        "from sklearn.model_selection import train_test_split\n",
        "X_train, X_test, y_train, y_test = train_test_split(X, y, test_size=0.2, random_state=42)\n",
        "X_train, X_val, y_train, y_val = train_test_split(X_train, y_train, test_size=0.1, random_state=1)"
      ]
    },
    {
      "cell_type": "markdown",
      "metadata": {
        "id": "_dA2h5LPZ8pR",
        "papermill": {
          "duration": 0.051965,
          "end_time": "2020-09-24T21:49:08.216438",
          "exception": false,
          "start_time": "2020-09-24T21:49:08.164473",
          "status": "completed"
        },
        "tags": []
      },
      "source": [
        "## Convolutionnal Neural Network"
      ]
    },
    {
      "cell_type": "code",
      "execution_count": 17,
      "metadata": {
        "execution": {
          "iopub.execute_input": "2020-09-24T21:49:08.332075Z",
          "iopub.status.busy": "2020-09-24T21:49:08.331289Z",
          "iopub.status.idle": "2020-09-24T21:49:14.101523Z",
          "shell.execute_reply": "2020-09-24T21:49:14.100857Z"
        },
        "id": "UK7W5lNzZ8pS",
        "papermill": {
          "duration": 5.82984,
          "end_time": "2020-09-24T21:49:14.101635",
          "exception": false,
          "start_time": "2020-09-24T21:49:08.271795",
          "status": "completed"
        },
        "tags": []
      },
      "outputs": [],
      "source": [
        "from keras.models import Sequential\n",
        "from keras.layers import Dense, Flatten\n",
        "from keras.applications.vgg16 import VGG16"
      ]
    },
    {
      "cell_type": "code",
      "execution_count": 18,
      "metadata": {
        "colab": {
          "base_uri": "https://localhost:8080/"
        },
        "execution": {
          "iopub.execute_input": "2020-09-24T21:49:14.219979Z",
          "iopub.status.busy": "2020-09-24T21:49:14.218999Z",
          "iopub.status.idle": "2020-09-24T21:49:18.292720Z",
          "shell.execute_reply": "2020-09-24T21:49:18.292049Z"
        },
        "id": "xyXCsTasZ8pS",
        "outputId": "d11c06e1-219c-43fa-d9b0-9ca837f1490b",
        "papermill": {
          "duration": 4.136212,
          "end_time": "2020-09-24T21:49:18.292875",
          "exception": false,
          "start_time": "2020-09-24T21:49:14.156663",
          "status": "completed"
        },
        "tags": []
      },
      "outputs": [
        {
          "name": "stdout",
          "output_type": "stream",
          "text": [
            "Downloading data from https://storage.googleapis.com/tensorflow/keras-applications/vgg16/vgg16_weights_tf_dim_ordering_tf_kernels_notop.h5\n"
          ]
        },
        {
          "name": "stderr",
          "output_type": "stream",
          "text": [
            "2023-04-04 21:01:45.440861: I tensorflow/core/platform/cpu_feature_guard.cc:193] This TensorFlow binary is optimized with oneAPI Deep Neural Network Library (oneDNN) to use the following CPU instructions in performance-critical operations:  SSE4.1 SSE4.2\n",
            "To enable them in other operations, rebuild TensorFlow with the appropriate compiler flags.\n"
          ]
        },
        {
          "name": "stdout",
          "output_type": "stream",
          "text": [
            "58889256/58889256 [==============================] - 8s 0us/step\n",
            "Model: \"sequential\"\n",
            "_________________________________________________________________\n",
            " Layer (type)                Output Shape              Param #   \n",
            "=================================================================\n",
            " vgg16 (Functional)          (None, 7, 7, 512)         14714688  \n",
            "                                                                 \n",
            " flatten (Flatten)           (None, 25088)             0         \n",
            "                                                                 \n",
            " dense (Dense)               (None, 128)               3211392   \n",
            "                                                                 \n",
            " dense_1 (Dense)             (None, 128)               16512     \n",
            "                                                                 \n",
            " dense_2 (Dense)             (None, 64)                8256      \n",
            "                                                                 \n",
            " dense_3 (Dense)             (None, 4)                 260       \n",
            "                                                                 \n",
            "=================================================================\n",
            "Total params: 17,951,108\n",
            "Trainable params: 3,236,420\n",
            "Non-trainable params: 14,714,688\n",
            "_________________________________________________________________\n"
          ]
        }
      ],
      "source": [
        "# Create the model\n",
        "model = Sequential()\n",
        "model.add(VGG16(weights=\"imagenet\", include_top=False, input_shape=(IMAGE_SIZE, IMAGE_SIZE, 3)))\n",
        "model.add(Flatten())\n",
        "model.add(Dense(128, activation=\"relu\"))\n",
        "model.add(Dense(128, activation=\"relu\"))\n",
        "model.add(Dense(64, activation=\"relu\"))\n",
        "model.add(Dense(4, activation=\"sigmoid\"))\n",
        "\n",
        "model.layers[-6].trainable = False\n",
        "\n",
        "model.summary()"
      ]
    },
    {
      "cell_type": "code",
      "execution_count": 19,
      "metadata": {
        "execution": {
          "iopub.execute_input": "2020-09-24T21:49:18.421204Z",
          "iopub.status.busy": "2020-09-24T21:49:18.419895Z",
          "iopub.status.idle": "2020-09-24T21:49:18.428799Z",
          "shell.execute_reply": "2020-09-24T21:49:18.428231Z"
        },
        "id": "7924HbPJZ8pU",
        "papermill": {
          "duration": 0.078577,
          "end_time": "2020-09-24T21:49:18.428935",
          "exception": false,
          "start_time": "2020-09-24T21:49:18.350358",
          "status": "completed"
        },
        "tags": []
      },
      "outputs": [],
      "source": [
        "model.compile(loss='mean_squared_error', optimizer='adam', metrics=['accuracy'])"
      ]
    },
    {
      "cell_type": "code",
      "execution_count": null,
      "metadata": {
        "colab": {
          "base_uri": "https://localhost:8080/"
        },
        "execution": {
          "iopub.execute_input": "2020-09-24T21:49:18.548662Z",
          "iopub.status.busy": "2020-09-24T21:49:18.548067Z",
          "iopub.status.idle": "2020-09-24T21:50:04.442948Z",
          "shell.execute_reply": "2020-09-24T21:50:04.444157Z"
        },
        "id": "R1jTVVxaZ8pV",
        "outputId": "e2b57da9-6009-4ae0-abd2-25484cba1a33",
        "papermill": {
          "duration": 45.958008,
          "end_time": "2020-09-24T21:50:04.444364",
          "exception": false,
          "start_time": "2020-09-24T21:49:18.486356",
          "status": "completed"
        },
        "tags": []
      },
      "outputs": [
        {
          "name": "stdout",
          "output_type": "stream",
          "text": [
            "Epoch 1/50\n",
            "10/10 [==============================] - 237s 24s/step - loss: 0.0566 - accuracy: 0.4855 - val_loss: 0.0246 - val_accuracy: 0.6000\n",
            "Epoch 2/50\n",
            "10/10 [==============================] - 236s 24s/step - loss: 0.0167 - accuracy: 0.6174 - val_loss: 0.0181 - val_accuracy: 0.6000\n",
            "Epoch 3/50\n",
            "10/10 [==============================] - 236s 24s/step - loss: 0.0078 - accuracy: 0.8071 - val_loss: 0.0166 - val_accuracy: 0.7143\n",
            "Epoch 4/50\n",
            "10/10 [==============================] - 237s 24s/step - loss: 0.0044 - accuracy: 0.8682 - val_loss: 0.0151 - val_accuracy: 0.6000\n",
            "Epoch 5/50\n",
            "10/10 [==============================] - 235s 24s/step - loss: 0.0025 - accuracy: 0.8810 - val_loss: 0.0146 - val_accuracy: 0.7429\n",
            "Epoch 6/50\n",
            "10/10 [==============================] - 235s 24s/step - loss: 0.0017 - accuracy: 0.9100 - val_loss: 0.0149 - val_accuracy: 0.8000\n",
            "Epoch 7/50\n",
            "10/10 [==============================] - 239s 24s/step - loss: 0.0014 - accuracy: 0.9357 - val_loss: 0.0147 - val_accuracy: 0.8000\n",
            "Epoch 8/50\n",
            "10/10 [==============================] - 234s 24s/step - loss: 9.3343e-04 - accuracy: 0.9325 - val_loss: 0.0146 - val_accuracy: 0.8000\n",
            "Epoch 9/50\n",
            "10/10 [==============================] - 234s 24s/step - loss: 6.7534e-04 - accuracy: 0.9421 - val_loss: 0.0148 - val_accuracy: 0.8286\n",
            "Epoch 10/50\n",
            "10/10 [==============================] - 235s 24s/step - loss: 6.8900e-04 - accuracy: 0.9518 - val_loss: 0.0150 - val_accuracy: 0.8000\n",
            "Epoch 11/50\n",
            "10/10 [==============================] - 238s 24s/step - loss: 6.4513e-04 - accuracy: 0.9711 - val_loss: 0.0149 - val_accuracy: 0.8000\n",
            "Epoch 12/50\n",
            "10/10 [==============================] - 234s 24s/step - loss: 4.8665e-04 - accuracy: 0.9614 - val_loss: 0.0148 - val_accuracy: 0.8000\n",
            "Epoch 13/50\n",
            "10/10 [==============================] - 241s 24s/step - loss: 4.3518e-04 - accuracy: 0.9518 - val_loss: 0.0150 - val_accuracy: 0.7714\n",
            "Epoch 14/50\n",
            "10/10 [==============================] - 236s 24s/step - loss: 4.0793e-04 - accuracy: 0.9711 - val_loss: 0.0151 - val_accuracy: 0.7429\n",
            "Epoch 15/50\n",
            "10/10 [==============================] - 236s 24s/step - loss: 4.6396e-04 - accuracy: 0.9550 - val_loss: 0.0148 - val_accuracy: 0.8286\n",
            "Epoch 16/50\n",
            "10/10 [==============================] - 234s 24s/step - loss: 3.6605e-04 - accuracy: 0.9678 - val_loss: 0.0149 - val_accuracy: 0.8000\n",
            "Epoch 17/50\n",
            "10/10 [==============================] - 235s 24s/step - loss: 3.9050e-04 - accuracy: 0.9550 - val_loss: 0.0151 - val_accuracy: 0.8000\n",
            "Epoch 18/50\n",
            "10/10 [==============================] - 238s 24s/step - loss: 4.3091e-04 - accuracy: 0.9453 - val_loss: 0.0155 - val_accuracy: 0.7143\n",
            "Epoch 19/50\n",
            "10/10 [==============================] - 235s 24s/step - loss: 6.2811e-04 - accuracy: 0.8971 - val_loss: 0.0153 - val_accuracy: 0.7714\n",
            "Epoch 20/50\n",
            "10/10 [==============================] - 237s 24s/step - loss: 5.4775e-04 - accuracy: 0.9260 - val_loss: 0.0151 - val_accuracy: 0.7429\n",
            "Epoch 21/50\n",
            "10/10 [==============================] - 234s 24s/step - loss: 6.6877e-04 - accuracy: 0.9003 - val_loss: 0.0145 - val_accuracy: 0.7714\n",
            "Epoch 22/50\n",
            "10/10 [==============================] - 234s 24s/step - loss: 5.3136e-04 - accuracy: 0.9550 - val_loss: 0.0153 - val_accuracy: 0.7714\n",
            "Epoch 23/50\n",
            "10/10 [==============================] - 237s 24s/step - loss: 4.7927e-04 - accuracy: 0.9453 - val_loss: 0.0149 - val_accuracy: 0.8000\n",
            "Epoch 24/50\n",
            "10/10 [==============================] - 217s 22s/step - loss: 3.9846e-04 - accuracy: 0.9486 - val_loss: 0.0149 - val_accuracy: 0.7429\n",
            "Epoch 25/50\n",
            "10/10 [==============================] - 233s 24s/step - loss: 4.5870e-04 - accuracy: 0.9325 - val_loss: 0.0148 - val_accuracy: 0.8286\n",
            "Epoch 26/50\n",
            "10/10 [==============================] - 236s 24s/step - loss: 4.0693e-04 - accuracy: 0.9453 - val_loss: 0.0151 - val_accuracy: 0.6857\n",
            "Epoch 27/50\n",
            "10/10 [==============================] - 237s 24s/step - loss: 4.2478e-04 - accuracy: 0.9614 - val_loss: 0.0151 - val_accuracy: 0.7429\n",
            "Epoch 28/50\n",
            "10/10 [==============================] - 237s 24s/step - loss: 5.3870e-04 - accuracy: 0.9646 - val_loss: 0.0157 - val_accuracy: 0.8000\n",
            "Epoch 29/50\n",
            "10/10 [==============================] - 236s 24s/step - loss: 5.6655e-04 - accuracy: 0.9518 - val_loss: 0.0154 - val_accuracy: 0.7143\n",
            "Epoch 30/50\n",
            "10/10 [==============================] - 216s 22s/step - loss: 6.2124e-04 - accuracy: 0.9100 - val_loss: 0.0153 - val_accuracy: 0.7714\n",
            "Epoch 31/50\n",
            "10/10 [==============================] - 234s 24s/step - loss: 5.5235e-04 - accuracy: 0.9453 - val_loss: 0.0149 - val_accuracy: 0.8000\n",
            "Epoch 32/50\n",
            "10/10 [==============================] - 237s 24s/step - loss: 6.3816e-04 - accuracy: 0.9260 - val_loss: 0.0149 - val_accuracy: 0.6571\n",
            "Epoch 33/50\n",
            "10/10 [==============================] - 237s 24s/step - loss: 6.5313e-04 - accuracy: 0.9357 - val_loss: 0.0158 - val_accuracy: 0.7714\n",
            "Epoch 34/50\n",
            "10/10 [==============================] - 237s 24s/step - loss: 7.7766e-04 - accuracy: 0.9260 - val_loss: 0.0161 - val_accuracy: 0.7714\n",
            "Epoch 35/50\n",
            "10/10 [==============================] - 220s 22s/step - loss: 0.0011 - accuracy: 0.9325 - val_loss: 0.0156 - val_accuracy: 0.7143\n",
            "Epoch 36/50\n",
            "10/10 [==============================] - 219s 22s/step - loss: 9.8721e-04 - accuracy: 0.9260 - val_loss: 0.0163 - val_accuracy: 0.7714\n",
            "Epoch 37/50\n",
            "10/10 [==============================] - 237s 24s/step - loss: 9.0201e-04 - accuracy: 0.9357 - val_loss: 0.0157 - val_accuracy: 0.7143\n",
            "Epoch 38/50\n",
            "10/10 [==============================] - 237s 24s/step - loss: 9.7227e-04 - accuracy: 0.9003 - val_loss: 0.0156 - val_accuracy: 0.6571\n",
            "Epoch 39/50\n",
            "10/10 [==============================] - 236s 24s/step - loss: 7.2158e-04 - accuracy: 0.9132 - val_loss: 0.0153 - val_accuracy: 0.7143\n",
            "Epoch 40/50\n",
            "10/10 [==============================] - 237s 24s/step - loss: 5.9235e-04 - accuracy: 0.9293 - val_loss: 0.0151 - val_accuracy: 0.6857\n",
            "Epoch 41/50\n",
            "10/10 [==============================] - 233s 24s/step - loss: 5.0182e-04 - accuracy: 0.9357 - val_loss: 0.0152 - val_accuracy: 0.7143\n",
            "Epoch 42/50\n",
            "10/10 [==============================] - 234s 24s/step - loss: 4.4709e-04 - accuracy: 0.9421 - val_loss: 0.0150 - val_accuracy: 0.7714\n",
            "Epoch 43/50\n",
            "10/10 [==============================] - 237s 24s/step - loss: 3.6965e-04 - accuracy: 0.9614 - val_loss: 0.0148 - val_accuracy: 0.6857\n",
            "Epoch 44/50\n",
            "10/10 [==============================] - 237s 24s/step - loss: 3.7683e-04 - accuracy: 0.9614 - val_loss: 0.0152 - val_accuracy: 0.7714\n",
            "Epoch 45/50\n",
            "10/10 [==============================] - 235s 24s/step - loss: 4.6992e-04 - accuracy: 0.9614 - val_loss: 0.0153 - val_accuracy: 0.8000\n",
            "Epoch 46/50\n",
            "10/10 [==============================] - 237s 24s/step - loss: 4.7529e-04 - accuracy: 0.9646 - val_loss: 0.0152 - val_accuracy: 0.7429\n",
            "Epoch 47/50\n",
            "10/10 [==============================] - 237s 24s/step - loss: 4.1760e-04 - accuracy: 0.9614 - val_loss: 0.0150 - val_accuracy: 0.7714\n",
            "Epoch 48/50\n",
            "10/10 [==============================] - 233s 24s/step - loss: 3.5401e-04 - accuracy: 0.9775 - val_loss: 0.0152 - val_accuracy: 0.7143\n",
            "Epoch 49/50\n",
            "10/10 [==============================] - 235s 24s/step - loss: 3.7286e-04 - accuracy: 0.9711 - val_loss: 0.0153 - val_accuracy: 0.7429\n",
            "Epoch 50/50\n",
            "10/10 [==============================] - 240s 24s/step - loss: 3.1522e-04 - accuracy: 0.9421 - val_loss: 0.0148 - val_accuracy: 0.8000\n"
          ]
        }
      ],
      "source": [
        "train = model.fit(X_train, y_train, validation_data=(X_val, y_val), epochs=50, batch_size=32, verbose=1)"
      ]
    },
    {
      "cell_type": "code",
      "execution_count": null,
      "metadata": {
        "execution": {
          "iopub.execute_input": "2020-09-24T21:50:05.297807Z",
          "iopub.status.busy": "2020-09-24T21:50:05.293315Z",
          "iopub.status.idle": "2020-09-24T21:50:05.477196Z",
          "shell.execute_reply": "2020-09-24T21:50:05.476173Z"
        },
        "id": "XwIn9tnlZ8pX",
        "papermill": {
          "duration": 0.515502,
          "end_time": "2020-09-24T21:50:05.477315",
          "exception": false,
          "start_time": "2020-09-24T21:50:04.961813",
          "status": "completed"
        },
        "tags": []
      },
      "outputs": [],
      "source": [
        "model.save('my_model.h5', overwrite=True) "
      ]
    },
    {
      "cell_type": "code",
      "execution_count": 20,
      "metadata": {
        "id": "7cfOBvx5WveX"
      },
      "outputs": [],
      "source": [
        "model.load_weights(\"/Users/magicfirst/Documents/Magic/Education/Master Degree/semester 2:2565/Software Design for Artificail Intelligence/Project/my_model.h5\")"
      ]
    },
    {
      "cell_type": "code",
      "execution_count": 21,
      "metadata": {
        "colab": {
          "base_uri": "https://localhost:8080/"
        },
        "execution": {
          "iopub.execute_input": "2020-09-24T21:50:06.055996Z",
          "iopub.status.busy": "2020-09-24T21:50:06.054743Z",
          "iopub.status.idle": "2020-09-24T21:50:06.350826Z",
          "shell.execute_reply": "2020-09-24T21:50:06.349582Z"
        },
        "id": "_arCAhbvZ8pZ",
        "outputId": "d4304d67-48ba-441a-d8c7-73c57d38bda6",
        "papermill": {
          "duration": 0.582953,
          "end_time": "2020-09-24T21:50:06.351178",
          "exception": false,
          "start_time": "2020-09-24T21:50:05.768225",
          "status": "completed"
        },
        "tags": []
      },
      "outputs": [
        {
          "name": "stdout",
          "output_type": "stream",
          "text": [
            "Score : 87.36%\n"
          ]
        }
      ],
      "source": [
        "# Test\n",
        "scores = model.evaluate(X_test, y_test, verbose=0)\n",
        "print(\"Score : %.2f%%\" % (scores[1]*100))"
      ]
    },
    {
      "cell_type": "code",
      "execution_count": 22,
      "metadata": {
        "execution": {
          "iopub.execute_input": "2020-09-24T21:50:06.908963Z",
          "iopub.status.busy": "2020-09-24T21:50:06.908260Z",
          "iopub.status.idle": "2020-09-24T21:50:06.912564Z",
          "shell.execute_reply": "2020-09-24T21:50:06.912025Z"
        },
        "id": "AYa0LwB3Z8pZ",
        "papermill": {
          "duration": 0.287134,
          "end_time": "2020-09-24T21:50:06.912665",
          "exception": false,
          "start_time": "2020-09-24T21:50:06.625531",
          "status": "completed"
        },
        "tags": []
      },
      "outputs": [],
      "source": [
        "def plot_scores(train) :\n",
        "    accuracy = train.history['accuracy']\n",
        "    val_accuracy = train.history['val_accuracy']\n",
        "    epochs = range(len(accuracy))\n",
        "    plt.plot(epochs, accuracy, 'b', label='Score apprentissage')\n",
        "    plt.plot(epochs, val_accuracy, 'r', label='Score validation')\n",
        "    plt.title('Scores')\n",
        "    plt.legend()\n",
        "    plt.show()"
      ]
    },
    {
      "cell_type": "code",
      "execution_count": null,
      "metadata": {
        "colab": {
          "base_uri": "https://localhost:8080/",
          "height": 164
        },
        "execution": {
          "iopub.execute_input": "2020-09-24T21:50:07.480597Z",
          "iopub.status.busy": "2020-09-24T21:50:07.479229Z",
          "iopub.status.idle": "2020-09-24T21:50:07.652778Z",
          "shell.execute_reply": "2020-09-24T21:50:07.653362Z"
        },
        "id": "njo9RshfZ8pa",
        "outputId": "17a55c68-503a-4e9e-f2f1-c073250734f7",
        "papermill": {
          "duration": 0.465735,
          "end_time": "2020-09-24T21:50:07.653505",
          "exception": false,
          "start_time": "2020-09-24T21:50:07.187770",
          "status": "completed"
        },
        "tags": []
      },
      "outputs": [
        {
          "ename": "NameError",
          "evalue": "ignored",
          "output_type": "error",
          "traceback": [
            "\u001b[0;31m---------------------------------------------------------------------------\u001b[0m",
            "\u001b[0;31mNameError\u001b[0m                                 Traceback (most recent call last)",
            "\u001b[0;32m<ipython-input-23-63dacc91d8bc>\u001b[0m in \u001b[0;36m<module>\u001b[0;34m\u001b[0m\n\u001b[0;32m----> 1\u001b[0;31m \u001b[0mplot_scores\u001b[0m\u001b[0;34m(\u001b[0m\u001b[0mtrain\u001b[0m\u001b[0;34m)\u001b[0m\u001b[0;34m\u001b[0m\u001b[0;34m\u001b[0m\u001b[0m\n\u001b[0m",
            "\u001b[0;31mNameError\u001b[0m: name 'train' is not defined"
          ]
        }
      ],
      "source": [
        "plot_scores(train)"
      ]
    },
    {
      "cell_type": "markdown",
      "metadata": {
        "id": "Lld93PgCZ8pa",
        "papermill": {
          "duration": 0.276763,
          "end_time": "2020-09-24T21:50:08.224202",
          "exception": false,
          "start_time": "2020-09-24T21:50:07.947439",
          "status": "completed"
        },
        "tags": []
      },
      "source": [
        "## DETECTION "
      ]
    },
    {
      "cell_type": "code",
      "execution_count": 23,
      "metadata": {
        "colab": {
          "base_uri": "https://localhost:8080/"
        },
        "execution": {
          "iopub.execute_input": "2020-09-24T21:50:08.783914Z",
          "iopub.status.busy": "2020-09-24T21:50:08.782633Z",
          "iopub.status.idle": "2020-09-24T21:50:09.820251Z",
          "shell.execute_reply": "2020-09-24T21:50:09.821211Z"
        },
        "id": "IMQIqDuuZ8pa",
        "outputId": "e54273fd-82d1-4bdb-940e-d245c5250dc7",
        "papermill": {
          "duration": 1.317699,
          "end_time": "2020-09-24T21:50:09.821359",
          "exception": false,
          "start_time": "2020-09-24T21:50:08.503660",
          "status": "completed"
        },
        "tags": []
      },
      "outputs": [
        {
          "name": "stdout",
          "output_type": "stream",
          "text": [
            " 87/100 [=========================>....] - ETA: 6s - loss: 0.0065 - accuracy: 0.8736WARNING:tensorflow:Your input ran out of data; interrupting training. Make sure that your dataset or generator can generate at least `steps_per_epoch * epochs` batches (in this case, 100 batches). You may need to use the repeat() function when building your dataset.\n",
            "100/100 [==============================] - 47s 469ms/step - loss: 0.0065 - accuracy: 0.8736\n",
            "Test results \n",
            " Loss: 0.006476704962551594 \n",
            " Accuracy 0.8735632300376892\n"
          ]
        }
      ],
      "source": [
        "test_loss, test_accuracy = model.evaluate(X_test, y_test,steps=int(100))\n",
        "\n",
        "print(\"Test results \\n Loss:\",test_loss,'\\n Accuracy',test_accuracy)\n"
      ]
    },
    {
      "cell_type": "code",
      "execution_count": 25,
      "metadata": {
        "id": "d2N9oow5ryes"
      },
      "outputs": [],
      "source": [
        "import tensorflow as tf\n",
        "\n",
        "# load image via tf.io\n",
        "img = tf.io.read_file(\"/Users/magicfirst/Documents/Magic/Education/Master Degree/semester 2:2565/Software Design for Artificail Intelligence/Project/sample_data/Sample_data4.jpeg\")\n",
        "\n",
        "# convert to tensor (specify 3 channels explicitly since png files contains additional alpha channel)\n",
        "# set the dtypes to align with pytorch for comparison since it will use uint8 by default\n",
        "tensor = tf.io.decode_image(img, channels=3, dtype=tf.dtypes.float32)\n",
        "# (384, 470, 3)\n",
        "\n",
        "# resize tensor to 224 x 224\n",
        "tensor = tf.image.resize(tensor, [224, 224])\n",
        "# (224, 224, 3)\n",
        "\n",
        "# add another dimension at the front to get NHWC shape\n",
        "input_tensor = tf.expand_dims(tensor, axis=0)\n",
        "# (1, 224, 224, 3)"
      ]
    },
    {
      "cell_type": "code",
      "execution_count": 26,
      "metadata": {
        "colab": {
          "base_uri": "https://localhost:8080/"
        },
        "execution": {
          "iopub.execute_input": "2020-09-24T21:50:10.398505Z",
          "iopub.status.busy": "2020-09-24T21:50:10.397297Z",
          "iopub.status.idle": "2020-09-24T21:50:10.838932Z",
          "shell.execute_reply": "2020-09-24T21:50:10.838308Z"
        },
        "id": "j1vUomZzZ8pb",
        "outputId": "e8259e63-0d29-4e65-9889-14442efa7dcf",
        "papermill": {
          "duration": 0.738742,
          "end_time": "2020-09-24T21:50:10.839051",
          "exception": false,
          "start_time": "2020-09-24T21:50:10.100309",
          "status": "completed"
        },
        "tags": []
      },
      "outputs": [
        {
          "name": "stdout",
          "output_type": "stream",
          "text": [
            "1/1 [==============================] - 1s 802ms/step\n"
          ]
        }
      ],
      "source": [
        "y_cnn = model.predict(input_tensor)"
      ]
    },
    {
      "cell_type": "markdown",
      "metadata": {
        "id": "xYWMSpfwZ8pc",
        "papermill": {
          "duration": 0.289355,
          "end_time": "2020-09-24T21:50:11.448457",
          "exception": false,
          "start_time": "2020-09-24T21:50:11.159102",
          "status": "completed"
        },
        "tags": []
      },
      "source": [
        "We can see how our model localize license plates on our testing set :"
      ]
    },
    {
      "cell_type": "code",
      "execution_count": 27,
      "metadata": {
        "id": "qAQQYVlV4Gdl"
      },
      "outputs": [],
      "source": [
        "love = np.array(input_tensor)"
      ]
    },
    {
      "cell_type": "code",
      "execution_count": 28,
      "metadata": {
        "colab": {
          "base_uri": "https://localhost:8080/",
          "height": 467
        },
        "id": "Qp2gE2nq47GF",
        "outputId": "36aa9faf-f8c1-4033-bc00-a47b6e31c7bf"
      },
      "outputs": [
        {
          "name": "stderr",
          "output_type": "stream",
          "text": [
            "Clipping input data to the valid range for imshow with RGB data ([0..1] for floats or [0..255] for integers).\n"
          ]
        },
        {
          "ename": "IndexError",
          "evalue": "index 1 is out of bounds for axis 0 with size 1",
          "output_type": "error",
          "traceback": [
            "\u001b[0;31m---------------------------------------------------------------------------\u001b[0m",
            "\u001b[0;31mIndexError\u001b[0m                                Traceback (most recent call last)",
            "\u001b[1;32m/Users/magicfirst/Documents/Magic/Education/Master Degree/semester 2:2565/Software Design for Artificail Intelligence/Project/license_plate_detection.ipynb Cell 44\u001b[0m in \u001b[0;36m<cell line: 2>\u001b[0;34m()\u001b[0m\n\u001b[1;32m      <a href='vscode-notebook-cell:/Users/magicfirst/Documents/Magic/Education/Master%20Degree/semester%202%3A2565/Software%20Design%20for%20Artificail%20Intelligence/Project/license_plate_detection.ipynb#X62sZmlsZQ%3D%3D?line=2'>3</a>\u001b[0m plt\u001b[39m.\u001b[39msubplot(\u001b[39m10\u001b[39m,\u001b[39m5\u001b[39m,i\u001b[39m+\u001b[39m\u001b[39m1\u001b[39m)\n\u001b[1;32m      <a href='vscode-notebook-cell:/Users/magicfirst/Documents/Magic/Education/Master%20Degree/semester%202%3A2565/Software%20Design%20for%20Artificail%20Intelligence/Project/license_plate_detection.ipynb#X62sZmlsZQ%3D%3D?line=3'>4</a>\u001b[0m plt\u001b[39m.\u001b[39maxis(\u001b[39m'\u001b[39m\u001b[39moff\u001b[39m\u001b[39m'\u001b[39m)\n\u001b[0;32m----> <a href='vscode-notebook-cell:/Users/magicfirst/Documents/Magic/Education/Master%20Degree/semester%202%3A2565/Software%20Design%20for%20Artificail%20Intelligence/Project/license_plate_detection.ipynb#X62sZmlsZQ%3D%3D?line=4'>5</a>\u001b[0m ny \u001b[39m=\u001b[39m y_cnn[i]\u001b[39m*\u001b[39m\u001b[39m255\u001b[39m\n\u001b[1;32m      <a href='vscode-notebook-cell:/Users/magicfirst/Documents/Magic/Education/Master%20Degree/semester%202%3A2565/Software%20Design%20for%20Artificail%20Intelligence/Project/license_plate_detection.ipynb#X62sZmlsZQ%3D%3D?line=5'>6</a>\u001b[0m image \u001b[39m=\u001b[39m cv2\u001b[39m.\u001b[39mrectangle(love[i],(\u001b[39mint\u001b[39m(ny[\u001b[39m0\u001b[39m]),\u001b[39mint\u001b[39m(ny[\u001b[39m1\u001b[39m])),(\u001b[39mint\u001b[39m(ny[\u001b[39m2\u001b[39m]),\u001b[39mint\u001b[39m(ny[\u001b[39m3\u001b[39m])),(\u001b[39m0\u001b[39m, \u001b[39m255\u001b[39m, \u001b[39m0\u001b[39m))\n\u001b[1;32m      <a href='vscode-notebook-cell:/Users/magicfirst/Documents/Magic/Education/Master%20Degree/semester%202%3A2565/Software%20Design%20for%20Artificail%20Intelligence/Project/license_plate_detection.ipynb#X62sZmlsZQ%3D%3D?line=6'>7</a>\u001b[0m plt\u001b[39m.\u001b[39mimshow(image)\n",
            "\u001b[0;31mIndexError\u001b[0m: index 1 is out of bounds for axis 0 with size 1"
          ]
        },
        {
          "data": {
            "image/png": "[encoded data removed]",
            "text/plain": [
              "<Figure size 1440x2880 with 2 Axes>"
            ]
          },
          "metadata": {
            "needs_background": "light"
          },
          "output_type": "display_data"
        }
      ],
      "source": [
        "plt.figure(figsize=(20,40))\n",
        "for i in range(0,43) :\n",
        "    plt.subplot(10,5,i+1)\n",
        "    plt.axis('off')\n",
        "    ny = y_cnn[i]*255\n",
        "    image = cv2.rectangle(love[i],(int(ny[0]),int(ny[1])),(int(ny[2]),int(ny[3])),(0, 255, 0))\n",
        "    plt.imshow(image)"
      ]
    },
    {
      "cell_type": "code",
      "execution_count": null,
      "metadata": {
        "id": "BDZAP9wpYbvJ"
      },
      "outputs": [],
      "source": []
    }
  ],
  "metadata": {
    "colab": {
      "provenance": []
    },
    "kernelspec": {
      "display_name": "Python 3",
      "language": "python",
      "name": "python3"
    },
    "language_info": {
      "codemirror_mode": {
        "name": "ipython",
        "version": 3
      },
      "file_extension": ".py",
      "mimetype": "text/x-python",
      "name": "python",
      "nbconvert_exporter": "python",
      "pygments_lexer": "ipython3",
      "version": "3.9.12"
    },
    "papermill": {
      "duration": 88.043905,
      "end_time": "2020-09-24T21:50:17.989561",
      "environment_variables": {},
      "exception": null,
      "input_path": "__notebook__.ipynb",
      "output_path": "__notebook__.ipynb",
      "parameters": {},
      "start_time": "2020-09-24T21:48:49.945656",
      "version": "2.1.0"
    }
  },
  "nbformat": 4,
  "nbformat_minor": 0
}
