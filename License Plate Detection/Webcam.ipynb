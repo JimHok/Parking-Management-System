{
  "nbformat": 4,
  "nbformat_minor": 0,
  "metadata": {
    "colab": {
      "provenance": []
    },
    "kernelspec": {
      "name": "python3",
      "display_name": "Python 3"
    },
    "language_info": {
      "name": "python"
    }
  },
  "cells": [
    {
      "cell_type": "code",
      "execution_count": null,
      "metadata": {
        "id": "YmT-BRdQxn0O"
      },
      "outputs": [],
      "source": [
        "pip install opencv-python\n",
        "pip install opencv-python-headless"
      ]
    },
    {
      "cell_type": "code",
      "source": [
        "import cv2\n",
        "\n",
        "def main():\n",
        "    # Create a window for displaying the video feed\n",
        "    window_name = \"Real-time Camera Feed\"\n",
        "    cv2.namedWindow(window_name, cv2.WINDOW_NORMAL)\n",
        "\n",
        "    # Initialize the camera (0 is usually the default camera)\n",
        "    cap = cv2.VideoCapture(0)\n",
        "\n",
        "    # Check if the camera is opened successfully\n",
        "    if not cap.isOpened():\n",
        "        print(\"Error: Unable to open the camera.\")\n",
        "        exit()\n",
        "\n",
        "    # Main loop for capturing and displaying the video feed\n",
        "    while True:\n",
        "        # Capture a single frame from the camera\n",
        "        ret, frame = cap.read()\n",
        "\n",
        "        # If the frame is captured successfully, display it\n",
        "        if ret:\n",
        "            cv2.imshow(window_name, frame)\n",
        "        else:\n",
        "            print(\"Error: Unable to read from the camera.\")\n",
        "            break\n",
        "\n",
        "        # Check for user input to exit the loop (press 'q' or 'esc')\n",
        "        key = cv2.waitKey(1) & 0xFF\n",
        "        if key == ord('q') or key == 27:\n",
        "            break\n",
        "\n",
        "    # Release the camera and close the window\n",
        "    cap.release()\n",
        "    cv2.destroyAllWindows()\n",
        "\n",
        "if __name__ == \"__main__\":\n",
        "    main()"
      ],
      "metadata": {
        "id": "-lMCSG6mxo0n"
      },
      "execution_count": null,
      "outputs": []
    },
    {
      "cell_type": "code",
      "source": [
        "python camera_feed.py"
      ],
      "metadata": {
        "id": "cVTg6Lvkxrxe"
      },
      "execution_count": null,
      "outputs": []
    }
  ]
}