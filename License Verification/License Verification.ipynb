{
 "cells": [
  {
   "cell_type": "code",
   "execution_count": 2,
   "metadata": {},
   "outputs": [],
   "source": [
    "import os\n",
    "from google.cloud import firestore\n",
    "from datetime import datetime"
   ]
  },
  {
   "cell_type": "code",
   "execution_count": 3,
   "metadata": {},
   "outputs": [],
   "source": [
    "def update_status(license_number, bluetooth_id):\n",
    "    # Set up your Firestore credentials\n",
    "    os.environ[\"GOOGLE_APPLICATION_CREDENTIALS\"] = \"parking-android-app-firebase-adminsdk-tcjkk-9046d67b09.json\"\n",
    "\n",
    "    # Initialize Firestore client\n",
    "    db = firestore.Client()\n",
    "\n",
    "    # Reference the users collection\n",
    "    users_ref = db.collection(\"users\")\n",
    "    time_ref = db.collection(\"time\")\n",
    "    time_doc_ref = time_ref.document(\"timestamp\")\n",
    "\n",
    "    all_users = users_ref.stream()\n",
    "\n",
    "    for user in all_users:\n",
    "        user_data = user.to_dict()\n",
    "\n",
    "        # Iterate through the vehicle maps\n",
    "        for key, vehicle in user_data.items():\n",
    "            if isinstance(vehicle, dict) and vehicle.get(\"license_plate\") == license_number and vehicle.get(\"bluetooth_id\").upper() == bluetooth_id.upper():\n",
    "                user_id = user.id\n",
    "                if vehicle.get(\"status\") == \"Parked\":\n",
    "                    new_status = \"Not Parking\"\n",
    "                else:\n",
    "                    new_status = \"Parked\"\n",
    "\n",
    "                # Update the status value in the Firestore database\n",
    "                users_ref.document(user_id).update({f\"{key}.status\": new_status})\n",
    "                \n",
    "                # Add a timestamp record to the 'time' collection\n",
    "                current_time = datetime.utcnow()\n",
    "                time = current_time.strftime(\"%Y-%m-%dT%H:%M:%S.%fZ\")\n",
    "                time_data = {\"time\": time, \"license_plate\": license_number, \"status\": new_status}\n",
    "                time_doc_ref.update({\"record\": firestore.ArrayUnion([time_data])})\n",
    "                break"
   ]
  },
  {
   "cell_type": "code",
   "execution_count": 14,
   "metadata": {},
   "outputs": [],
   "source": [
    "# Recognized license plate number\n",
    "license_number = \"2TH4720\"\n",
    "ble_id = \"GH:3G:G6:G5:73:GH\"\n",
    "\n",
    "update_status(license_number, ble_id)"
   ]
  },
  {
   "cell_type": "code",
   "execution_count": null,
   "metadata": {},
   "outputs": [],
   "source": []
  }
 ],
 "metadata": {
  "kernelspec": {
   "display_name": "Python 3",
   "language": "python",
   "name": "python3"
  },
  "language_info": {
   "codemirror_mode": {
    "name": "ipython",
    "version": 3
   },
   "file_extension": ".py",
   "mimetype": "text/x-python",
   "name": "python",
   "nbconvert_exporter": "python",
   "pygments_lexer": "ipython3",
   "version": "3.7.9"
  },
  "orig_nbformat": 4
 },
 "nbformat": 4,
 "nbformat_minor": 2
}
