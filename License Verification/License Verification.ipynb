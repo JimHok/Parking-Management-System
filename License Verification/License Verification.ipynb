{
 "cells": [
  {
   "cell_type": "code",
   "execution_count": 8,
   "metadata": {},
   "outputs": [],
   "source": [
    "import os\n",
    "from google.cloud import firestore\n",
    "from firebase_admin import credentials\n",
    "import firebase_admin"
   ]
  },
  {
   "cell_type": "code",
   "execution_count": 32,
   "metadata": {},
   "outputs": [],
   "source": [
    "# Set up your Firestore credentials\n",
    "os.environ[\"GOOGLE_APPLICATION_CREDENTIALS\"] = \"parking-android-app-firebase-adminsdk-tcjkk-9046d67b09.json\"\n",
    "\n",
    "# Initialize Firestore client\n",
    "db = firestore.Client()\n",
    "\n",
    "# Reference the users collection\n",
    "users_ref = db.collection(\"users\")"
   ]
  },
  {
   "cell_type": "code",
   "execution_count": 33,
   "metadata": {},
   "outputs": [],
   "source": [
    "# Set the provided license number\n",
    "license_number = \"AB123\""
   ]
  },
  {
   "cell_type": "code",
   "execution_count": 34,
   "metadata": {},
   "outputs": [],
   "source": [
    "all_users = users_ref.stream()"
   ]
  },
  {
   "cell_type": "code",
   "execution_count": 35,
   "metadata": {},
   "outputs": [],
   "source": [
    "for user in all_users:\n",
    "    user_data = user.to_dict()\n",
    "    vehicle_match_found = False\n",
    "\n",
    "    # Iterate through the vehicle maps\n",
    "    for key, vehicle in user_data.items():\n",
    "        if isinstance(vehicle, dict) and vehicle.get(\"license_plate\") == license_number:\n",
    "            vehicle_match_found = True\n",
    "            break\n",
    "\n",
    "    # Update the status value if a matching vehicle is found\n",
    "    if vehicle_match_found:\n",
    "        user_id = user.id\n",
    "        print(user_id)\n",
    "        user_ref = users_ref.document(user_id)\n",
    "        if user_ref.get().to_dict()[\"status\"] == \"Parked\":\n",
    "            user_ref.update({\"status\": \"Not Parking\"})\n",
    "        else:\n",
    "            user_ref.update({\"status\": \"Parked\"})"
   ]
  },
  {
   "cell_type": "code",
   "execution_count": null,
   "metadata": {},
   "outputs": [],
   "source": []
  }
 ],
 "metadata": {
  "kernelspec": {
   "display_name": "Python 3",
   "language": "python",
   "name": "python3"
  },
  "language_info": {
   "codemirror_mode": {
    "name": "ipython",
    "version": 3
   },
   "file_extension": ".py",
   "mimetype": "text/x-python",
   "name": "python",
   "nbconvert_exporter": "python",
   "pygments_lexer": "ipython3",
   "version": "3.7.9"
  },
  "orig_nbformat": 4
 },
 "nbformat": 4,
 "nbformat_minor": 2
}
